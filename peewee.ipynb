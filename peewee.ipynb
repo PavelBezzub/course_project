{
 "cells": [
  {
   "cell_type": "code",
   "execution_count": 7,
   "metadata": {},
   "outputs": [],
   "source": [
    "# pip install peewee"
   ]
  },
  {
   "cell_type": "code",
   "execution_count": 8,
   "metadata": {},
   "outputs": [],
   "source": [
    "from peewee import *\n",
    "\n",
    "# Создаем соединение с нашей базой данных\n",
    "# В нашем примере у нас это просто файл базы\n",
    "conn = SqliteDatabase('Chinook_Sqlite.sqlite')\n",
    "\n",
    "# ТУТ БУДЕТ КОД НАШИХ МОДЕЛЕЙ\n",
    "\n",
    "# Создаем курсор - специальный объект для запросов и получения данных с базы\n",
    "cursor = conn.cursor()\n",
    "\n",
    "# ТУТ БУДЕТ НАШ КОД РАБОТЫ С БАЗОЙ ДАННЫХ\n",
    "\n",
    "# Не забываем закрыть соединение с базой данных\n",
    "# conn.close()"
   ]
  },
  {
   "cell_type": "code",
   "execution_count": null,
   "metadata": {},
   "outputs": [],
   "source": []
  },
  {
   "cell_type": "code",
   "execution_count": 9,
   "metadata": {},
   "outputs": [
    {
     "data": {
      "text/plain": [
       "<sqlite3.Cursor at 0x27889289650>"
      ]
     },
     "execution_count": 9,
     "metadata": {},
     "output_type": "execute_result"
    }
   ],
   "source": [
    "cursor.execute(\"SELECT Name FROM Artist ORDER BY Name LIMIT 3\")"
   ]
  },
  {
   "cell_type": "code",
   "execution_count": 10,
   "metadata": {},
   "outputs": [],
   "source": [
    "results = cursor.fetchall()"
   ]
  },
  {
   "cell_type": "code",
   "execution_count": 11,
   "metadata": {},
   "outputs": [
    {
     "data": {
      "text/plain": [
       "[('A Cor Do Som',), ('AC/DC',), ('Aaron Copland & London Symphony Orchestra',)]"
      ]
     },
     "execution_count": 11,
     "metadata": {},
     "output_type": "execute_result"
    }
   ],
   "source": [
    "results"
   ]
  },
  {
   "cell_type": "code",
   "execution_count": 12,
   "metadata": {},
   "outputs": [],
   "source": [
    "# cursor.execute(\"insert into Artist values (Null, 'A Aagrh!') \")"
   ]
  },
  {
   "cell_type": "code",
   "execution_count": 13,
   "metadata": {},
   "outputs": [],
   "source": [
    "class BaseModel(Model):\n",
    "    class Meta:\n",
    "        database = conn  # соединение с базой, из шаблона выше\n",
    "\n",
    "# Определяем модель исполнителя\n",
    "class Artist(BaseModel):\n",
    "    artist_id = AutoField(column_name='ArtistId')\n",
    "    name = TextField(column_name='Name', null=True)\n",
    "\n",
    "    class Meta:\n",
    "        table_name = 'Artist'"
   ]
  },
  {
   "cell_type": "code",
   "execution_count": 14,
   "metadata": {},
   "outputs": [],
   "source": [
    "artist = Artist.get(Artist.artist_id == 1)"
   ]
  },
  {
   "cell_type": "code",
   "execution_count": 15,
   "metadata": {},
   "outputs": [
    {
     "data": {
      "text/plain": [
       "<Artist: 1>"
      ]
     },
     "execution_count": 15,
     "metadata": {},
     "output_type": "execute_result"
    }
   ],
   "source": [
    "artist"
   ]
  },
  {
   "cell_type": "code",
   "execution_count": 16,
   "metadata": {},
   "outputs": [
    {
     "name": "stdout",
     "output_type": "stream",
     "text": [
      "artist:  1 AC/DC\n"
     ]
    }
   ],
   "source": [
    "print('artist: ', artist.artist_id, artist.name)  "
   ]
  },
  {
   "cell_type": "code",
   "execution_count": 17,
   "metadata": {},
   "outputs": [
    {
     "name": "stdout",
     "output_type": "stream",
     "text": [
      "SELECT \"t1\".\"ArtistId\", \"t1\".\"Name\" FROM \"Artist\" AS \"t1\" WHERE (\"t1\".\"ArtistId\" < 10) ORDER BY \"t1\".\"ArtistId\" DESC LIMIT 5\n"
     ]
    }
   ],
   "source": [
    "query =  Artist.select().where(Artist.artist_id < 10).limit(5).order_by(Artist.artist_id.desc())\n",
    "\n",
    "print(query)"
   ]
  },
  {
   "cell_type": "code",
   "execution_count": 18,
   "metadata": {},
   "outputs": [],
   "source": [
    "r = query.dicts().execute()"
   ]
  },
  {
   "cell_type": "code",
   "execution_count": 19,
   "metadata": {},
   "outputs": [
    {
     "name": "stdout",
     "output_type": "stream",
     "text": [
      "artist:  {'artist_id': 9, 'name': 'BackBeat'}\n",
      "artist:  {'artist_id': 8, 'name': 'Audioslave'}\n",
      "artist:  {'artist_id': 7, 'name': 'Apocalyptica'}\n",
      "artist:  {'artist_id': 6, 'name': 'Antônio Carlos Jobim'}\n",
      "artist:  {'artist_id': 5, 'name': 'Alice In Chains'}\n"
     ]
    }
   ],
   "source": [
    "for artist in r:\n",
    "    print('artist: ', artist)"
   ]
  },
  {
   "cell_type": "code",
   "execution_count": 22,
   "metadata": {},
   "outputs": [],
   "source": [
    "from peewee import *\n",
    "\n",
    "# Создаем соединение с нашей базой данных\n",
    "# В нашем примере у нас это просто файл базы\n",
    "conn = SqliteDatabase('course_project.sqlite')\n",
    "\n",
    "# ТУТ БУДЕТ КОД НАШИХ МОДЕЛЕЙ\n",
    "\n",
    "# Создаем курсор - специальный объект для запросов и получения данных с базы\n",
    "cursor = conn.cursor()\n",
    "\n",
    "# ТУТ БУДЕТ НАШ КОД РАБОТЫ С БАЗОЙ ДАННЫХ\n",
    "\n",
    "# Не забываем закрыть соединение с базой данных\n",
    "# conn.close()"
   ]
  },
  {
   "cell_type": "code",
   "execution_count": 23,
   "metadata": {},
   "outputs": [
    {
     "ename": "OperationalError",
     "evalue": "table playlist already exists",
     "output_type": "error",
     "traceback": [
      "\u001b[1;31m---------------------------------------------------------------------------\u001b[0m",
      "\u001b[1;31mOperationalError\u001b[0m                          Traceback (most recent call last)",
      "\u001b[1;32m<ipython-input-23-20366560eb37>\u001b[0m in \u001b[0;36m<module>\u001b[1;34m\u001b[0m\n\u001b[0;32m      2\u001b[0m     \u001b[0mid\u001b[0m \u001b[0mint\u001b[0m\u001b[1;33m,\u001b[0m\u001b[1;33m\u001b[0m\u001b[1;33m\u001b[0m\u001b[0m\n\u001b[0;32m      3\u001b[0m     \u001b[0mplaylist_name\u001b[0m \u001b[0mtext\u001b[0m\u001b[1;33m\u001b[0m\u001b[1;33m\u001b[0m\u001b[0m\n\u001b[1;32m----> 4\u001b[1;33m );''')\n\u001b[0m",
      "\u001b[1;31mOperationalError\u001b[0m: table playlist already exists"
     ]
    }
   ],
   "source": [
    "cursor.execute('''CREATE TABLE playlist (\n",
    "    id int,\n",
    "    playlist_name text\n",
    ");''')"
   ]
  },
  {
   "cell_type": "code",
   "execution_count": 24,
   "metadata": {},
   "outputs": [
    {
     "ename": "OperationalError",
     "evalue": "table playlist_song already exists",
     "output_type": "error",
     "traceback": [
      "\u001b[1;31m---------------------------------------------------------------------------\u001b[0m",
      "\u001b[1;31mOperationalError\u001b[0m                          Traceback (most recent call last)",
      "\u001b[1;32m<ipython-input-24-025ec108d912>\u001b[0m in \u001b[0;36m<module>\u001b[1;34m\u001b[0m\n\u001b[0;32m      3\u001b[0m     \u001b[0mtrack_id\u001b[0m\u001b[1;33m,\u001b[0m\u001b[1;33m\u001b[0m\u001b[1;33m\u001b[0m\u001b[0m\n\u001b[0;32m      4\u001b[0m     \u001b[0mplaylist_id\u001b[0m \u001b[0mint\u001b[0m\u001b[1;33m\u001b[0m\u001b[1;33m\u001b[0m\u001b[0m\n\u001b[1;32m----> 5\u001b[1;33m );''')\n\u001b[0m",
      "\u001b[1;31mOperationalError\u001b[0m: table playlist_song already exists"
     ]
    }
   ],
   "source": [
    "cursor.execute('''CREATE TABLE playlist_song (\n",
    "    track_number int,\n",
    "    track_id,\n",
    "    playlist_id int\n",
    ");''')"
   ]
  },
  {
   "cell_type": "code",
   "execution_count": 25,
   "metadata": {},
   "outputs": [
    {
     "ename": "OperationalError",
     "evalue": "table music already exists",
     "output_type": "error",
     "traceback": [
      "\u001b[1;31m---------------------------------------------------------------------------\u001b[0m",
      "\u001b[1;31mOperationalError\u001b[0m                          Traceback (most recent call last)",
      "\u001b[1;32m<ipython-input-25-79ddf90a3fe5>\u001b[0m in \u001b[0;36m<module>\u001b[1;34m\u001b[0m\n\u001b[0;32m      7\u001b[0m     \u001b[0mgener\u001b[0m \u001b[0mtext\u001b[0m\u001b[1;33m,\u001b[0m\u001b[1;33m\u001b[0m\u001b[1;33m\u001b[0m\u001b[0m\n\u001b[0;32m      8\u001b[0m     \u001b[0mpath_in_pc\u001b[0m \u001b[0mtext\u001b[0m\u001b[1;33m\u001b[0m\u001b[1;33m\u001b[0m\u001b[0m\n\u001b[1;32m----> 9\u001b[1;33m );''')\n\u001b[0m",
      "\u001b[1;31mOperationalError\u001b[0m: table music already exists"
     ]
    }
   ],
   "source": [
    "cursor.execute('''CREATE TABLE music (\n",
    "    id int,\n",
    "    cong_name text,\n",
    "    artist text,\n",
    "    publish_year text,\n",
    "    album text,\n",
    "    gener text,\n",
    "    path_in_pc text\n",
    ");''')"
   ]
  },
  {
   "cell_type": "code",
   "execution_count": null,
   "metadata": {},
   "outputs": [],
   "source": []
  }
 ],
 "metadata": {
  "kernelspec": {
   "display_name": "Python 3",
   "language": "python",
   "name": "python3"
  },
  "language_info": {
   "codemirror_mode": {
    "name": "ipython",
    "version": 3
   },
   "file_extension": ".py",
   "mimetype": "text/x-python",
   "name": "python",
   "nbconvert_exporter": "python",
   "pygments_lexer": "ipython3",
   "version": "3.7.3"
  }
 },
 "nbformat": 4,
 "nbformat_minor": 2
}
